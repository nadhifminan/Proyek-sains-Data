{
 "cells": [
  {
   "cell_type": "code",
   "execution_count": 1,
   "id": "919e1e91-4438-40db-8995-0dcf17efeed4",
   "metadata": {},
   "outputs": [
    {
     "name": "stdout",
     "output_type": "stream",
     "text": [
      "Data asli: ['senin', 'selasa', 'rabu', 'kamis', 'jumat']\n",
      "Data yang sudah di-label encode: [4 3 2 1 0]\n"
     ]
    }
   ],
   "source": [
    "#label encode\n",
    "from sklearn.preprocessing import LabelEncoder\n",
    "\n",
    "# Data\n",
    "data = ['senin', 'selasa', 'rabu', 'kamis', 'jumat']\n",
    "\n",
    "# Inisialisasi LabelEncoder\n",
    "label_encoder = LabelEncoder()\n",
    "\n",
    "# Melakukan fit dan transformasi data\n",
    "encoded_labels = label_encoder.fit_transform(data)\n",
    "\n",
    "# Menampilkan hasil\n",
    "print(f'Data asli: {data}')\n",
    "print(f'Data yang sudah di-label encode: {encoded_labels}')\n"
   ]
  },
  {
   "cell_type": "code",
   "execution_count": 4,
   "id": "8ebbb21f-225b-4950-aec4-17096825e4b5",
   "metadata": {},
   "outputs": [
    {
     "name": "stdout",
     "output_type": "stream",
     "text": [
      "   jumat  kamis  rabu  selasa  senin\n",
      "0      0      0     0       0      1\n",
      "1      0      0     0       1      0\n",
      "2      0      0     1       0      0\n",
      "3      0      1     0       0      0\n",
      "4      1      0     0       0      0\n"
     ]
    }
   ],
   "source": [
    "import pandas as pd\n",
    "\n",
    "# Data\n",
    "data = ['senin', 'selasa', 'rabu', 'kamis', 'jumat']\n",
    "\n",
    "# Melakukan One Hot Encoding menggunakan pd.get_dummies()\n",
    "one_hot_encode_data = pd.get_dummies(data)\n",
    "\n",
    "# Menampilkan hasil\n",
    "print(one_hot_encode_data)\n"
   ]
  },
  {
   "cell_type": "code",
   "execution_count": 10,
   "id": "0587d35b-7f43-4f14-8005-43aed3d56fa3",
   "metadata": {},
   "outputs": [
    {
     "name": "stdout",
     "output_type": "stream",
     "text": [
      "Data asli: [['low'], ['medium'], ['high']]\n",
      "Data yang sudah di-Ordinal Encode:\n",
      "[[1.]\n",
      " [2.]\n",
      " [0.]]\n"
     ]
    }
   ],
   "source": [
    "from sklearn.preprocessing import OrdinalEncoder\n",
    "\n",
    "# Data\n",
    "data = [['low'], ['medium'], ['high']]\n",
    "\n",
    "# Inisialisasi OrdinalEncoder\n",
    "ordinal_encoder = OrdinalEncoder()\n",
    "\n",
    "# Melakukan fit dan transformasi data\n",
    "numeric_data = ordinal_encoder.fit_transform(data)\n",
    "\n",
    "# Menampilkan hasil\n",
    "print(f'Data asli: {data}')\n",
    "print(f'Data yang sudah di-Ordinal Encode:\\n{numeric_data}')\n"
   ]
  },
  {
   "cell_type": "code",
   "execution_count": 11,
   "id": "ffa82902-ac87-48e0-b60c-ae64ad157941",
   "metadata": {},
   "outputs": [],
   "source": [
    "# buat file csv\n",
    "# load data di dalam python \n",
    "# ambil data kategori\n",
    "#encode\n",
    "#tampilkan"
   ]
  },
  {
   "cell_type": "code",
   "execution_count": 6,
   "id": "808652de-ee12-462a-93e6-807c9e8da158",
   "metadata": {},
   "outputs": [
    {
     "name": "stdout",
     "output_type": "stream",
     "text": [
      "Isi dari file CSV:\n"
     ]
    },
    {
     "ename": "TypeError",
     "evalue": "DataFrame.to_string() got an unexpected keyword argument 'sep'",
     "output_type": "error",
     "traceback": [
      "\u001b[1;31m---------------------------------------------------------------------------\u001b[0m",
      "\u001b[1;31mTypeError\u001b[0m                                 Traceback (most recent call last)",
      "Cell \u001b[1;32mIn [6], line 9\u001b[0m\n\u001b[0;32m      7\u001b[0m \u001b[38;5;66;03m# Menampilkan isi file CSV dengan delimiter tab\u001b[39;00m\n\u001b[0;32m      8\u001b[0m \u001b[38;5;28mprint\u001b[39m(\u001b[38;5;124m\"\u001b[39m\u001b[38;5;124mIsi dari file CSV:\u001b[39m\u001b[38;5;124m\"\u001b[39m)\n\u001b[1;32m----> 9\u001b[0m \u001b[38;5;28mprint\u001b[39m(\u001b[43mdata\u001b[49m\u001b[38;5;241;43m.\u001b[39;49m\u001b[43mto_string\u001b[49m\u001b[43m(\u001b[49m\u001b[43mindex\u001b[49m\u001b[38;5;241;43m=\u001b[39;49m\u001b[38;5;28;43;01mFalse\u001b[39;49;00m\u001b[43m,\u001b[49m\u001b[43m \u001b[49m\u001b[43msep\u001b[49m\u001b[38;5;241;43m=\u001b[39;49m\u001b[38;5;124;43m'\u001b[39;49m\u001b[38;5;130;43;01m\\t\u001b[39;49;00m\u001b[38;5;124;43m'\u001b[39;49m\u001b[43m)\u001b[49m)\n",
      "\u001b[1;31mTypeError\u001b[0m: DataFrame.to_string() got an unexpected keyword argument 'sep'"
     ]
    }
   ],
   "source": [
    "import pandas as pd\n",
    "\n",
    "# Membaca file CSV\n",
    "file_path = 'data_perusahaanA.csv'\n",
    "data = pd.read_csv(file_path)\n",
    "\n",
    "# Menampilkan isi file CSV dengan delimiter tab\n",
    "print(\"Isi dari file CSV:\")\n",
    "print(data.to_string(index=False, sep='\\t'))"
   ]
  },
  {
   "cell_type": "code",
   "execution_count": null,
   "id": "de1748ca-463b-4df4-9596-846ea16d48ea",
   "metadata": {},
   "outputs": [],
   "source": [
    "nama projeknya"
   ]
  }
 ],
 "metadata": {
  "kernelspec": {
   "display_name": "Python 3 (ipykernel)",
   "language": "python",
   "name": "python3"
  },
  "language_info": {
   "codemirror_mode": {
    "name": "ipython",
    "version": 3
   },
   "file_extension": ".py",
   "mimetype": "text/x-python",
   "name": "python",
   "nbconvert_exporter": "python",
   "pygments_lexer": "ipython3",
   "version": "3.10.7"
  }
 },
 "nbformat": 4,
 "nbformat_minor": 5
}
