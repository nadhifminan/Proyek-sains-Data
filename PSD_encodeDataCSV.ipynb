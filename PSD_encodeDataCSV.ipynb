{
 "cells": [
  {
   "cell_type": "code",
   "execution_count": 1,
   "id": "919e1e91-4438-40db-8995-0dcf17efeed4",
   "metadata": {},
   "outputs": [
    {
     "name": "stdout",
     "output_type": "stream",
     "text": [
      "Data asli: ['senin', 'selasa', 'rabu', 'kamis', 'jumat']\n",
      "Data yang sudah di-label encode: [4 3 2 1 0]\n"
     ]
    }
   ],
   "source": [
    "#label encode\n",
    "from sklearn.preprocessing import LabelEncoder\n",
    "\n",
    "# Data\n",
    "data = ['senin', 'selasa', 'rabu', 'kamis', 'jumat']\n",
    "\n",
    "# Inisialisasi LabelEncoder\n",
    "label_encoder = LabelEncoder()\n",
    "\n",
    "# Melakukan fit dan transformasi data\n",
    "encoded_labels = label_encoder.fit_transform(data)\n",
    "\n",
    "# Menampilkan hasil\n",
    "print(f'Data asli: {data}')\n",
    "print(f'Data yang sudah di-label encode: {encoded_labels}')\n"
   ]
  },
  {
   "cell_type": "code",
   "execution_count": 4,
   "id": "8ebbb21f-225b-4950-aec4-17096825e4b5",
   "metadata": {},
   "outputs": [
    {
     "name": "stdout",
     "output_type": "stream",
     "text": [
      "   jumat  kamis  rabu  selasa  senin\n",
      "0      0      0     0       0      1\n",
      "1      0      0     0       1      0\n",
      "2      0      0     1       0      0\n",
      "3      0      1     0       0      0\n",
      "4      1      0     0       0      0\n"
     ]
    }
   ],
   "source": [
    "import pandas as pd\n",
    "\n",
    "# Data\n",
    "data = ['senin', 'selasa', 'rabu', 'kamis', 'jumat']\n",
    "\n",
    "# Melakukan One Hot Encoding menggunakan pd.get_dummies()\n",
    "one_hot_encode_data = pd.get_dummies(data)\n",
    "\n",
    "# Menampilkan hasil\n",
    "print(one_hot_encode_data)\n"
   ]
  },
  {
   "cell_type": "code",
   "execution_count": 10,
   "id": "0587d35b-7f43-4f14-8005-43aed3d56fa3",
   "metadata": {},
   "outputs": [
    {
     "name": "stdout",
     "output_type": "stream",
     "text": [
      "Data asli: [['low'], ['medium'], ['high']]\n",
      "Data yang sudah di-Ordinal Encode:\n",
      "[[1.]\n",
      " [2.]\n",
      " [0.]]\n"
     ]
    }
   ],
   "source": [
    "from sklearn.preprocessing import OrdinalEncoder\n",
    "\n",
    "# Data\n",
    "data = [['low'], ['medium'], ['high']]\n",
    "\n",
    "# Inisialisasi OrdinalEncoder\n",
    "ordinal_encoder = OrdinalEncoder()\n",
    "\n",
    "# Melakukan fit dan transformasi data\n",
    "numeric_data = ordinal_encoder.fit_transform(data)\n",
    "\n",
    "# Menampilkan hasil\n",
    "print(f'Data asli: {data}')\n",
    "print(f'Data yang sudah di-Ordinal Encode:\\n{numeric_data}')\n"
   ]
  },
  {
   "cell_type": "code",
   "execution_count": 11,
   "id": "ffa82902-ac87-48e0-b60c-ae64ad157941",
   "metadata": {},
   "outputs": [],
   "source": [
    "# buat file csv\n",
    "# load data di dalam python \n",
    "# ambil data kategori\n",
    "#encode\n",
    "#tampilkan"
   ]
  },
  {
   "cell_type": "code",
   "execution_count": 10,
   "id": "808652de-ee12-462a-93e6-807c9e8da158",
   "metadata": {},
   "outputs": [
    {
     "name": "stdout",
     "output_type": "stream",
     "text": [
      "Isi dari file CSV:\n",
      "  Nama Karyawan Jenis Kelamin    Alamat     Jabatan\n",
      "0        nadhif          Laki      Pati    Direktur\n",
      "1         minan          Laki      Pati       staff\n",
      "2        fajrul     Perempuan  Surabaya     manager\n",
      "3          fian          Laki   jombang         hrd\n",
      "4        wildan     Perempuan    madura       staff\n",
      "5        ronggo          Laki  lamongan       staff\n",
      "6          agus     Perempuan  lamongan  sekertaris\n"
     ]
    }
   ],
   "source": [
    "import pandas as pd\n",
    "\n",
    "# Membaca file CSV\n",
    "file_path = 'data_perusahaanA.csv'\n",
    "data = pd.read_csv(file_path,delimiter=';')\n",
    "\n",
    "# Menampilkan isi file CSV\n",
    "print(\"Isi dari file CSV:\")\n",
    "print(data)"
   ]
  },
  {
   "cell_type": "code",
   "execution_count": 14,
   "id": "de1748ca-463b-4df4-9596-846ea16d48ea",
   "metadata": {},
   "outputs": [],
   "source": [
    "jenisKelamin=data['Jenis Kelamin']\n",
    "asalKota=data['Alamat']\n",
    "jabatan=data['Jabatan']"
   ]
  },
  {
   "cell_type": "code",
   "execution_count": 18,
   "id": "c42ae646-034d-4027-be89-32fdf151ed62",
   "metadata": {},
   "outputs": [
    {
     "name": "stdout",
     "output_type": "stream",
     "text": [
      "[0 0 1 0 1 0 1]\n"
     ]
    }
   ],
   "source": [
    "from sklearn.preprocessing import LabelEncoder\n",
    "label_encoder = LabelEncoder()\n",
    "jenis_kelamin_encoded =label_encoder.fit_transform(jenisKelamin)\n",
    "print(jenis_kelamin_encoded)"
   ]
  },
  {
   "cell_type": "code",
   "execution_count": 24,
   "id": "7d5998db-09cd-4066-b682-74b81ef47d5c",
   "metadata": {},
   "outputs": [
    {
     "name": "stdout",
     "output_type": "stream",
     "text": [
      "   Pati  Surabaya  jombang  lamongan  madura\n",
      "0     1         0        0         0       0\n",
      "1     1         0        0         0       0\n",
      "2     0         1        0         0       0\n",
      "3     0         0        1         0       0\n",
      "4     0         0        0         0       1\n",
      "5     0         0        0         1       0\n",
      "6     0         0        0         1       0\n"
     ]
    },
    {
     "data": {
      "text/plain": [
       "[[1, 0, 0, 0, 0],\n",
       " [1, 0, 0, 0, 0],\n",
       " [0, 1, 0, 0, 0],\n",
       " [0, 0, 1, 0, 0],\n",
       " [0, 0, 0, 0, 1],\n",
       " [0, 0, 0, 1, 0],\n",
       " [0, 0, 0, 1, 0]]"
      ]
     },
     "execution_count": 24,
     "metadata": {},
     "output_type": "execute_result"
    }
   ],
   "source": [
    "asal_kota_encoded = pd.get_dummies(asalKota)\n",
    "print(asal_kota_encoded)\n",
    "asal_kota_encoded =asal_kota_encoded.values.tolist()\n",
    "asal_kota_encoded"
   ]
  },
  {
   "cell_type": "code",
   "execution_count": 26,
   "id": "ab884eb4-ae6a-4ab1-9548-8ce672192a19",
   "metadata": {},
   "outputs": [
    {
     "name": "stdout",
     "output_type": "stream",
     "text": [
      "[0 4 2 1 4 4 3]\n"
     ]
    }
   ],
   "source": [
    "jabatan_encoded =label_encoder.fit_transform(jabatan)\n",
    "print(jabatan_encoded)"
   ]
  },
  {
   "cell_type": "code",
   "execution_count": 29,
   "id": "6dab05ff-3bf2-4e28-b6dd-faf54811a4ff",
   "metadata": {},
   "outputs": [
    {
     "data": {
      "text/html": [
       "<div>\n",
       "<style scoped>\n",
       "    .dataframe tbody tr th:only-of-type {\n",
       "        vertical-align: middle;\n",
       "    }\n",
       "\n",
       "    .dataframe tbody tr th {\n",
       "        vertical-align: top;\n",
       "    }\n",
       "\n",
       "    .dataframe thead th {\n",
       "        text-align: right;\n",
       "    }\n",
       "</style>\n",
       "<table border=\"1\" class=\"dataframe\">\n",
       "  <thead>\n",
       "    <tr style=\"text-align: right;\">\n",
       "      <th></th>\n",
       "      <th>Nama Karyawan</th>\n",
       "      <th>Jenis Kelamin</th>\n",
       "      <th>Alamat</th>\n",
       "      <th>Jabatan</th>\n",
       "    </tr>\n",
       "  </thead>\n",
       "  <tbody>\n",
       "    <tr>\n",
       "      <th>0</th>\n",
       "      <td>nadhif</td>\n",
       "      <td>0</td>\n",
       "      <td>[1, 0, 0, 0, 0]</td>\n",
       "      <td>0</td>\n",
       "    </tr>\n",
       "    <tr>\n",
       "      <th>1</th>\n",
       "      <td>minan</td>\n",
       "      <td>0</td>\n",
       "      <td>[1, 0, 0, 0, 0]</td>\n",
       "      <td>4</td>\n",
       "    </tr>\n",
       "    <tr>\n",
       "      <th>2</th>\n",
       "      <td>fajrul</td>\n",
       "      <td>1</td>\n",
       "      <td>[0, 1, 0, 0, 0]</td>\n",
       "      <td>2</td>\n",
       "    </tr>\n",
       "    <tr>\n",
       "      <th>3</th>\n",
       "      <td>fian</td>\n",
       "      <td>0</td>\n",
       "      <td>[0, 0, 1, 0, 0]</td>\n",
       "      <td>1</td>\n",
       "    </tr>\n",
       "    <tr>\n",
       "      <th>4</th>\n",
       "      <td>wildan</td>\n",
       "      <td>1</td>\n",
       "      <td>[0, 0, 0, 0, 1]</td>\n",
       "      <td>4</td>\n",
       "    </tr>\n",
       "    <tr>\n",
       "      <th>5</th>\n",
       "      <td>ronggo</td>\n",
       "      <td>0</td>\n",
       "      <td>[0, 0, 0, 1, 0]</td>\n",
       "      <td>4</td>\n",
       "    </tr>\n",
       "    <tr>\n",
       "      <th>6</th>\n",
       "      <td>agus</td>\n",
       "      <td>1</td>\n",
       "      <td>[0, 0, 0, 1, 0]</td>\n",
       "      <td>3</td>\n",
       "    </tr>\n",
       "  </tbody>\n",
       "</table>\n",
       "</div>"
      ],
      "text/plain": [
       "  Nama Karyawan  Jenis Kelamin           Alamat  Jabatan\n",
       "0        nadhif              0  [1, 0, 0, 0, 0]        0\n",
       "1         minan              0  [1, 0, 0, 0, 0]        4\n",
       "2        fajrul              1  [0, 1, 0, 0, 0]        2\n",
       "3          fian              0  [0, 0, 1, 0, 0]        1\n",
       "4        wildan              1  [0, 0, 0, 0, 1]        4\n",
       "5        ronggo              0  [0, 0, 0, 1, 0]        4\n",
       "6          agus              1  [0, 0, 0, 1, 0]        3"
      ]
     },
     "execution_count": 29,
     "metadata": {},
     "output_type": "execute_result"
    }
   ],
   "source": [
    "data_encoded = data.copy()\n",
    "data_encoded['Jenis Kelamin'] = jenis_kelamin_encoded\n",
    "data_encoded['Jabatan'] = jabatan_encoded\n",
    "data_encoded['Alamat'] = asal_kota_encoded\n",
    "data_encoded"
   ]
  }
 ],
 "metadata": {
  "kernelspec": {
   "display_name": "Python 3 (ipykernel)",
   "language": "python",
   "name": "python3"
  },
  "language_info": {
   "codemirror_mode": {
    "name": "ipython",
    "version": 3
   },
   "file_extension": ".py",
   "mimetype": "text/x-python",
   "name": "python",
   "nbconvert_exporter": "python",
   "pygments_lexer": "ipython3",
   "version": "3.10.7"
  }
 },
 "nbformat": 4,
 "nbformat_minor": 5
}
